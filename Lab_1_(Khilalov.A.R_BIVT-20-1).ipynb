{
 "cells": [
  {
   "cell_type": "markdown",
   "id": "576479a4",
   "metadata": {},
   "source": [
    "## Лабораторная работа №1\n",
    "## Хилалов Артем\n",
    "## БИВТ-20-1"
   ]
  },
  {
   "cell_type": "raw",
   "id": "007fea45",
   "metadata": {},
   "source": [
    "Some examples ✨"
   ]
  },
  {
   "cell_type": "code",
   "execution_count": 2,
   "id": "da9c17e2",
   "metadata": {},
   "outputs": [],
   "source": [
    "a = 5\n",
    "assert a == 5  # assert проходит, т.к. a равно 0"
   ]
  },
  {
   "cell_type": "code",
   "execution_count": 3,
   "id": "cf185e09",
   "metadata": {},
   "outputs": [
    {
     "ename": "AssertionError",
     "evalue": "",
     "output_type": "error",
     "traceback": [
      "\u001b[0;31m---------------------------------------------------------------------------\u001b[0m",
      "\u001b[0;31mAssertionError\u001b[0m                            Traceback (most recent call last)",
      "Cell \u001b[0;32mIn[3], line 1\u001b[0m\n\u001b[0;32m----> 1\u001b[0m \u001b[38;5;28;01massert\u001b[39;00m a \u001b[38;5;241m>\u001b[39m \u001b[38;5;241m6\u001b[39m  \u001b[38;5;66;03m# assert не проходит, т.к. а не больше 6, выпадает ошибка\u001b[39;00m\n",
      "\u001b[0;31mAssertionError\u001b[0m: "
     ]
    }
   ],
   "source": [
    "assert a > 6  # assert не проходит, т.к. а не больше 6, выпадает ошибка"
   ]
  },
  {
   "cell_type": "markdown",
   "id": "8890fea5",
   "metadata": {},
   "source": [
    "## 1. Базовые типы переменных"
   ]
  },
  {
   "cell_type": "code",
   "execution_count": 4,
   "id": "adda9e54",
   "metadata": {},
   "outputs": [],
   "source": [
    "int_variable = 10\n",
    "assert isinstance(int_variable, int)\n",
    "\n",
    "float_variable = 3.14\n",
    "assert isinstance(float_variable, float)\n",
    "\n",
    "string_variable = 'figures'\n",
    "assert isinstance(string_variable, str)\n",
    "\n",
    "bool_variable = 7 > 6\n",
    "assert isinstance(bool_variable, bool)"
   ]
  },
  {
   "cell_type": "code",
   "execution_count": 5,
   "id": "d8dd2193",
   "metadata": {},
   "outputs": [],
   "source": [
    "list_variable = [1.5, 34, 'hi there']\n",
    "assert isinstance(list_variable, list)\n",
    "\n",
    "tuple_variable = (3.14, 5 < 8, 3)\n",
    "assert isinstance(tuple_variable, tuple)\n",
    "\n",
    "set_variable = {'Planck constant', 6.63, 937257655}\n",
    "assert isinstance(set_variable, set)\n",
    "\n",
    "dict_variable = {x: x**2 for x in (2, 4, 6)} #x=2\n",
    "assert isinstance(dict_variable, dict)"
   ]
  },
  {
   "cell_type": "markdown",
   "id": "9d2fdabf",
   "metadata": {},
   "source": [
    "## 2. Различные функции"
   ]
  },
  {
   "cell_type": "code",
   "execution_count": 6,
   "id": "605e40e2",
   "metadata": {},
   "outputs": [],
   "source": [
    "def difference_of_two_numbers(first, second):\n",
    "    \"\"\"Возвращает разницу между первым и вторым аргументом\"\"\"\n",
    "    distinction = first - second\n",
    "    return distinction\n",
    "    pass\n",
    "\n",
    "\n",
    "assert difference_of_two_numbers(2, 1) == 1\n",
    "assert difference_of_two_numbers(4, 1) == 3\n",
    "assert difference_of_two_numbers(10, 0) == 10\n",
    "assert difference_of_two_numbers(-5, -6) == 1"
   ]
  },
  {
   "cell_type": "code",
   "execution_count": 7,
   "id": "31a1993d",
   "metadata": {},
   "outputs": [],
   "source": [
    "def condition_function(input_number):\n",
    "    \"\"\"\n",
    "    Если входное число меньше либо равно 0, то умножить его на 2.\n",
    "    В противном случае, если число больше 0, но меньше или равно 10, умножить на 3.\n",
    "    Во всех прочих случаях поделить на 10.\n",
    "    \"\"\"\n",
    "    if (input_number) <= 0:\n",
    "        first_iteration = input_number * 2\n",
    "        return first_iteration\n",
    "    elif (input_number > 0) & (input_number <= 10):\n",
    "        second_iteration = input_number * 3\n",
    "        return second_iteration\n",
    "    else:\n",
    "        miscellaneous_iteration = input_number / 10\n",
    "        return miscellaneous_iteration\n",
    "    pass\n",
    "\n",
    "\n",
    "assert condition_function(0) == 0\n",
    "assert condition_function(-1) == -2\n",
    "assert condition_function(1) == 3\n",
    "assert condition_function(10) == 30\n",
    "assert condition_function(11) == 1.1\n",
    "assert condition_function(20) == 2"
   ]
  },
  {
   "cell_type": "code",
   "execution_count": 8,
   "id": "ae1377f8",
   "metadata": {},
   "outputs": [],
   "source": [
    "def calculator(number_1, operation, number_2):\n",
    "    \"\"\"\n",
    "    Простой оператор, способный выполнять операции +, -, *, /.\n",
    "    На входе первое число, операция в виде строки и второе число.\n",
    "    \n",
    "    Пример: \n",
    "    >>> calculator(1, \"+\", 1)\n",
    "    >>> 2\n",
    "    \"\"\"\n",
    "    if operation == \"+\":\n",
    "        addition = number_1 + number_2\n",
    "        return addition\n",
    "    elif operation == \"-\":\n",
    "        subtraction\t= number_1 - number_2\n",
    "        return subtraction\n",
    "    elif operation == \"*\":\n",
    "        multiplication = number_1 * number_2\n",
    "        return multiplication\n",
    "    elif operation == \"/\":\n",
    "        division = number_1 / number_2\n",
    "        return int(division)\n",
    "    pass\n",
    "\n",
    "\n",
    "assert calculator(1, \"+\", 2) == 3\n",
    "assert calculator(3, \"-\", 1) == 2\n",
    "assert calculator(4, \"*\", 3) == 12\n",
    "assert calculator(2, \"/\", 2) == 1 "
   ]
  },
  {
   "cell_type": "code",
   "execution_count": 9,
   "id": "a26fdb54",
   "metadata": {},
   "outputs": [],
   "source": [
    "def number_of_unique_elements(input_list):\n",
    "    \"\"\"\n",
    "    Считает количество уникальных элементов в листе.\n",
    "    \"\"\"\n",
    "    return(len(set(input_list))) #через класс set\n",
    "    pass\n",
    "\n",
    "assert number_of_unique_elements([1, 2, 3]) == 3\n",
    "assert number_of_unique_elements([1] * 93) == 1\n",
    "assert number_of_unique_elements(list(range(1000))) == 1000"
   ]
  },
  {
   "cell_type": "code",
   "execution_count": 16,
   "id": "f51d3f9d",
   "metadata": {
    "scrolled": false
   },
   "outputs": [],
   "source": [
    "def counter(input_list):\n",
    "    \"\"\"\n",
    "    Считает количество вхождений каждого из элементов листа.\n",
    "    Возвращает словарь вида {число: количество вхождений}\n",
    "    \n",
    "    Замечание (!): встроенным в collections Counter'ом пользоваться нельзя\n",
    "    \n",
    "    Например:\n",
    "    counter([1, 1, 2, 3]) вернет {1: 2, 2: 1, 3: 1}\n",
    "    \"\"\"\n",
    "    answer = {}\n",
    "    for figure in input_list:\n",
    "     if figure not in answer:\n",
    "        answer[figure] = 1\n",
    "     else:\n",
    "        answer[figure] += 1\n",
    "    return(answer)\n",
    "    pass\n",
    "\n",
    "assert counter([1, 1, 1, 2, 3]) == {1: 3, 2: 1, 3: 1}\n",
    "assert counter([1] * 1000) == {1: 1000}\n",
    "assert counter([1, 3, 5] * 100) == {1: 100, 3: 100, 5: 100}"
   ]
  },
  {
   "cell_type": "code",
   "execution_count": 17,
   "id": "af8beb2e",
   "metadata": {},
   "outputs": [],
   "source": [
    "def multiply_nums(input_string):\n",
    "    \"\"\"\n",
    "    Перемножить числа, переданные в строке, перечисленные через запятую.\n",
    "    \n",
    "    hint: можно использовать метод .split()\n",
    "    \"\"\"\n",
    "    list_of_figures = map(int, input_string.split(','))\n",
    "    multiplication = 1\n",
    "    for i in list_of_figures:\n",
    "        multiplication *= i\n",
    "    return multiplication\n",
    "    pass\n",
    "\n",
    "\n",
    "assert multiply_nums(\"2, 3\") == 6\n",
    "assert multiply_nums(\"1, 1, 1, 1, 1, 1, 1\") == 1\n",
    "assert multiply_nums(\"345, 4576, 794, 325, 0\") == 0"
   ]
  },
  {
   "cell_type": "markdown",
   "id": "edb11eab",
   "metadata": {},
   "source": [
    "## Реализация функции y = sin(x)· cos(x)"
   ]
  },
  {
   "cell_type": "code",
   "execution_count": 12,
   "id": "56ba2255",
   "metadata": {},
   "outputs": [],
   "source": [
    "import math\n",
    "def custom_function(x):\n",
    "    \"\"\"\n",
    "    Реализуйте функцию, описанную выше.\n",
    "    \"\"\"\n",
    "    y = math.sin(x) * math.cos(x)\n",
    "    figure = round(y, 3)\n",
    "    return (figure)\n",
    "    pass\n",
    "\n",
    "assert round(custom_function(1), 3) == 0.455\n",
    "assert round(custom_function(1.5), 3) == 0.071\n",
    "assert round(custom_function(2), 3) == -0.378\n",
    "assert custom_function(0) == 0"
   ]
  },
  {
   "cell_type": "markdown",
   "id": "7fafa65a",
   "metadata": {},
   "source": [
    "## Реализация функции произведения"
   ]
  },
  {
   "cell_type": "code",
   "execution_count": 19,
   "id": "316cb2ba",
   "metadata": {},
   "outputs": [],
   "source": [
    "import math\n",
    "d = []\n",
    "o = 1\n",
    "def custom_function_1(x, n):\n",
    "    \"\"\"\n",
    "    Реализуйте функцию, описанную выше.\n",
    "    \"\"\"\n",
    "    for i in range(1, n+1):\n",
    "        first_iteration = pow((i + 2), x)\n",
    "        second_iteration = math.log(x)\n",
    "        third_iteration = pow(x, 2)\n",
    "        fourth_iteration = 4 * i\n",
    "        multiplication = (first_iteration + second_iteration)/(third_iteration + fourth_iteration)\n",
    "        d.append(multiplication)\n",
    "    f = math.prod(d)\n",
    "    answer = round(f, 3)\n",
    "    d.clear()\n",
    "    return (answer)\n",
    "    pass\n",
    "\n",
    "assert round(custom_function_1(2, 3), 3) == 2.707\n",
    "assert round(custom_function_1(3, 2), 3) == 8.277\n",
    "assert round(custom_function_1(3, 3), 3) == 49.7"
   ]
  },
  {
   "cell_type": "code",
   "execution_count": 13,
   "id": "95b7803a",
   "metadata": {},
   "outputs": [],
   "source": [
    "\n",
    "class MyList:\n",
    "    def __init__(self, list):\n",
    "        self.list = list\n",
    "        pass\n",
    "    \n",
    "    def return_sum(self):\n",
    "        \"\"\"\n",
    "        Возвращает сумму всех элементов сохраненного листа.\n",
    "        Пользоваться sum нельзя!\n",
    "        \"\"\"\n",
    "        sum = 0\n",
    "        for i in self.list:\n",
    "            sum += i\n",
    "        return (sum)\n",
    "        pass\n",
    "    \n",
    "    def make_reverse(self):\n",
    "        \"\"\"\n",
    "        Разворачивает сохраненный лист.\n",
    "        \"\"\"\n",
    "        return(self.list[::-1])\n",
    "        pass\n",
    "    \n",
    "    def make_slice(self, start, stop):\n",
    "        \"\"\"\n",
    "        Делает слайсинг сохраненного листа.\n",
    "        \"\"\"\n",
    "        return(self.list[slice(start, stop)])\n",
    "        pass\n",
    "    \n",
    "    \n",
    "a = MyList([1, 2, 3, 4])\n",
    "assert a.return_sum() == 10\n",
    "assert a.make_reverse() == [4, 3, 2, 1]\n",
    "assert a.make_slice(0, 2) == [1, 2]\n",
    "\n",
    "b = MyList([5, 6, 6, 5])\n",
    "assert b.return_sum() == 22\n",
    "assert b.make_reverse() == [5, 6, 6, 5]\n",
    "assert b.make_slice(1, 2) == [6]"
   ]
  }
 ],
 "metadata": {
  "kernelspec": {
   "display_name": "Python 3 (ipykernel)",
   "language": "python",
   "name": "python3"
  },
  "language_info": {
   "codemirror_mode": {
    "name": "ipython",
    "version": 3
   },
   "file_extension": ".py",
   "mimetype": "text/x-python",
   "name": "python",
   "nbconvert_exporter": "python",
   "pygments_lexer": "ipython3",
   "version": "3.9.2"
  }
 },
 "nbformat": 4,
 "nbformat_minor": 5
}
